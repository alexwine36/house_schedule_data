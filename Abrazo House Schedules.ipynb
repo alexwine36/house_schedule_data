{
 "cells": [
  {
   "cell_type": "markdown",
   "metadata": {},
   "source": [
    "## House Schedules"
   ]
  },
  {
   "cell_type": "code",
   "execution_count": 65,
   "metadata": {},
   "outputs": [],
   "source": [
    "import pandas as pd\n",
    "import numpy as np\n",
    "import matplotlib.pyplot as plt"
   ]
  },
  {
   "cell_type": "code",
   "execution_count": 66,
   "metadata": {},
   "outputs": [
    {
     "data": {
      "text/html": [
       "<div>\n",
       "<style scoped>\n",
       "    .dataframe tbody tr th:only-of-type {\n",
       "        vertical-align: middle;\n",
       "    }\n",
       "\n",
       "    .dataframe tbody tr th {\n",
       "        vertical-align: top;\n",
       "    }\n",
       "\n",
       "    .dataframe thead th {\n",
       "        text-align: right;\n",
       "    }\n",
       "</style>\n",
       "<table border=\"1\" class=\"dataframe\">\n",
       "  <thead>\n",
       "    <tr style=\"text-align: right;\">\n",
       "      <th></th>\n",
       "      <th>COMPANYCODE</th>\n",
       "      <th>DEVELOPMENTCODE</th>\n",
       "      <th>HOUSENUMBER</th>\n",
       "      <th>STEPNUMBER</th>\n",
       "      <th>ACTIVITYCODE</th>\n",
       "      <th>EARLYSTARTDATE</th>\n",
       "      <th>EARLYFINISHDATE</th>\n",
       "      <th>LATESTARTDATE</th>\n",
       "      <th>LATEFINISHDATE</th>\n",
       "      <th>RVERLSTSTARTDATE</th>\n",
       "      <th>...</th>\n",
       "      <th>CITY</th>\n",
       "      <th>COUNTY</th>\n",
       "      <th>POPULATION</th>\n",
       "      <th>POPULATION_DENSITY</th>\n",
       "      <th>HOUSING_UNITS</th>\n",
       "      <th>OCCUPIED_HOUSING_UNITS</th>\n",
       "      <th>MEDIAN_HOME_VALUE</th>\n",
       "      <th>MEDIAN_HOUSEHOLD_INCOME</th>\n",
       "      <th>BUSINESS_DURATION</th>\n",
       "      <th>ACTUAL_DURATION</th>\n",
       "    </tr>\n",
       "  </thead>\n",
       "  <tbody>\n",
       "    <tr>\n",
       "      <th>35247</th>\n",
       "      <td>1</td>\n",
       "      <td>VV</td>\n",
       "      <td>11</td>\n",
       "      <td>4900</td>\n",
       "      <td>P48</td>\n",
       "      <td>2017-10-12</td>\n",
       "      <td>2017-10-12</td>\n",
       "      <td>10/12/2017</td>\n",
       "      <td>10/12/2017</td>\n",
       "      <td>01/12/2018</td>\n",
       "      <td>...</td>\n",
       "      <td>Albuquerque</td>\n",
       "      <td>Bernalillo County</td>\n",
       "      <td>61623</td>\n",
       "      <td>2894.0</td>\n",
       "      <td>24618</td>\n",
       "      <td>23251</td>\n",
       "      <td>209300</td>\n",
       "      <td>65277</td>\n",
       "      <td>1</td>\n",
       "      <td>1.0</td>\n",
       "    </tr>\n",
       "    <tr>\n",
       "      <th>35248</th>\n",
       "      <td>1</td>\n",
       "      <td>VV</td>\n",
       "      <td>11</td>\n",
       "      <td>4925</td>\n",
       "      <td>P49</td>\n",
       "      <td>2017-10-13</td>\n",
       "      <td>2017-10-13</td>\n",
       "      <td>10/18/2017</td>\n",
       "      <td>10/18/2017</td>\n",
       "      <td>12/12/2017</td>\n",
       "      <td>...</td>\n",
       "      <td>Albuquerque</td>\n",
       "      <td>Bernalillo County</td>\n",
       "      <td>61623</td>\n",
       "      <td>2894.0</td>\n",
       "      <td>24618</td>\n",
       "      <td>23251</td>\n",
       "      <td>209300</td>\n",
       "      <td>65277</td>\n",
       "      <td>1</td>\n",
       "      <td>1.0</td>\n",
       "    </tr>\n",
       "    <tr>\n",
       "      <th>35249</th>\n",
       "      <td>1</td>\n",
       "      <td>VV</td>\n",
       "      <td>11</td>\n",
       "      <td>4950</td>\n",
       "      <td>P51</td>\n",
       "      <td>2017-10-13</td>\n",
       "      <td>2017-10-17</td>\n",
       "      <td>10/13/2017</td>\n",
       "      <td>10/17/2017</td>\n",
       "      <td>12/12/2017</td>\n",
       "      <td>...</td>\n",
       "      <td>Albuquerque</td>\n",
       "      <td>Bernalillo County</td>\n",
       "      <td>61623</td>\n",
       "      <td>2894.0</td>\n",
       "      <td>24618</td>\n",
       "      <td>23251</td>\n",
       "      <td>209300</td>\n",
       "      <td>65277</td>\n",
       "      <td>1</td>\n",
       "      <td>1.0</td>\n",
       "    </tr>\n",
       "    <tr>\n",
       "      <th>35250</th>\n",
       "      <td>1</td>\n",
       "      <td>VV</td>\n",
       "      <td>11</td>\n",
       "      <td>5000</td>\n",
       "      <td>P54</td>\n",
       "      <td>2017-10-18</td>\n",
       "      <td>2017-10-18</td>\n",
       "      <td>10/18/2017</td>\n",
       "      <td>10/18/2017</td>\n",
       "      <td>01/11/2018</td>\n",
       "      <td>...</td>\n",
       "      <td>Albuquerque</td>\n",
       "      <td>Bernalillo County</td>\n",
       "      <td>61623</td>\n",
       "      <td>2894.0</td>\n",
       "      <td>24618</td>\n",
       "      <td>23251</td>\n",
       "      <td>209300</td>\n",
       "      <td>65277</td>\n",
       "      <td>1</td>\n",
       "      <td>1.0</td>\n",
       "    </tr>\n",
       "    <tr>\n",
       "      <th>35251</th>\n",
       "      <td>1</td>\n",
       "      <td>VV</td>\n",
       "      <td>11</td>\n",
       "      <td>5050</td>\n",
       "      <td>P57</td>\n",
       "      <td>2017-10-18</td>\n",
       "      <td>2017-10-18</td>\n",
       "      <td>10/18/2017</td>\n",
       "      <td>10/18/2017</td>\n",
       "      <td>12/13/2017</td>\n",
       "      <td>...</td>\n",
       "      <td>Albuquerque</td>\n",
       "      <td>Bernalillo County</td>\n",
       "      <td>61623</td>\n",
       "      <td>2894.0</td>\n",
       "      <td>24618</td>\n",
       "      <td>23251</td>\n",
       "      <td>209300</td>\n",
       "      <td>65277</td>\n",
       "      <td>1</td>\n",
       "      <td>1.0</td>\n",
       "    </tr>\n",
       "  </tbody>\n",
       "</table>\n",
       "<p>5 rows × 53 columns</p>\n",
       "</div>"
      ],
      "text/plain": [
       "       COMPANYCODE DEVELOPMENTCODE  HOUSENUMBER  STEPNUMBER ACTIVITYCODE  \\\n",
       "35247            1              VV           11        4900          P48   \n",
       "35248            1              VV           11        4925          P49   \n",
       "35249            1              VV           11        4950          P51   \n",
       "35250            1              VV           11        5000          P54   \n",
       "35251            1              VV           11        5050          P57   \n",
       "\n",
       "      EARLYSTARTDATE EARLYFINISHDATE LATESTARTDATE LATEFINISHDATE  \\\n",
       "35247     2017-10-12      2017-10-12    10/12/2017     10/12/2017   \n",
       "35248     2017-10-13      2017-10-13    10/18/2017     10/18/2017   \n",
       "35249     2017-10-13      2017-10-17    10/13/2017     10/17/2017   \n",
       "35250     2017-10-18      2017-10-18    10/18/2017     10/18/2017   \n",
       "35251     2017-10-18      2017-10-18    10/18/2017     10/18/2017   \n",
       "\n",
       "      RVERLSTSTARTDATE       ...               CITY             COUNTY  \\\n",
       "35247       01/12/2018       ...        Albuquerque  Bernalillo County   \n",
       "35248       12/12/2017       ...        Albuquerque  Bernalillo County   \n",
       "35249       12/12/2017       ...        Albuquerque  Bernalillo County   \n",
       "35250       01/11/2018       ...        Albuquerque  Bernalillo County   \n",
       "35251       12/13/2017       ...        Albuquerque  Bernalillo County   \n",
       "\n",
       "      POPULATION POPULATION_DENSITY  HOUSING_UNITS OCCUPIED_HOUSING_UNITS  \\\n",
       "35247      61623             2894.0          24618                  23251   \n",
       "35248      61623             2894.0          24618                  23251   \n",
       "35249      61623             2894.0          24618                  23251   \n",
       "35250      61623             2894.0          24618                  23251   \n",
       "35251      61623             2894.0          24618                  23251   \n",
       "\n",
       "      MEDIAN_HOME_VALUE MEDIAN_HOUSEHOLD_INCOME BUSINESS_DURATION  \\\n",
       "35247            209300                   65277                 1   \n",
       "35248            209300                   65277                 1   \n",
       "35249            209300                   65277                 1   \n",
       "35250            209300                   65277                 1   \n",
       "35251            209300                   65277                 1   \n",
       "\n",
       "      ACTUAL_DURATION  \n",
       "35247             1.0  \n",
       "35248             1.0  \n",
       "35249             1.0  \n",
       "35250             1.0  \n",
       "35251             1.0  \n",
       "\n",
       "[5 rows x 53 columns]"
      ]
     },
     "execution_count": 66,
     "metadata": {},
     "output_type": "execute_result"
    }
   ],
   "source": [
    "dfs = pd.read_csv(\"./files/compiled_schedules.csv\")\n",
    "dfs.tail()"
   ]
  },
  {
   "cell_type": "markdown",
   "metadata": {},
   "source": [
    "### Activities by Subdivision"
   ]
  },
  {
   "cell_type": "code",
   "execution_count": 67,
   "metadata": {
    "scrolled": true
   },
   "outputs": [
    {
     "data": {
      "text/plain": [
       "<matplotlib.axes._subplots.AxesSubplot at 0x11f6f06a0>"
      ]
     },
     "execution_count": 67,
     "metadata": {},
     "output_type": "execute_result"
    },
    {
     "data": {
      "image/png": "[encoded data removed]",
      "text/plain": [
       "<Figure size 432x288 with 1 Axes>"
      ]
     },
     "metadata": {},
     "output_type": "display_data"
    }
   ],
   "source": [
    "dfs[\"DEVELOPMENTCODE\"].value_counts().plot.bar()"
   ]
  },
  {
   "cell_type": "markdown",
   "metadata": {},
   "source": [
    "### Activities by City"
   ]
  },
  {
   "cell_type": "code",
   "execution_count": 68,
   "metadata": {},
   "outputs": [
    {
     "data": {
      "text/plain": [
       "<matplotlib.axes._subplots.AxesSubplot at 0x11c7dc400>"
      ]
     },
     "execution_count": 68,
     "metadata": {},
     "output_type": "execute_result"
    },
    {
     "data": {
      "image/png": "[encoded data removed]",
      "text/plain": [
       "<Figure size 432x288 with 1 Axes>"
      ]
     },
     "metadata": {},
     "output_type": "display_data"
    }
   ],
   "source": [
    "dfs[\"CITY\"].value_counts().plot.bar()"
   ]
  },
  {
   "cell_type": "code",
   "execution_count": null,
   "metadata": {},
   "outputs": [],
   "source": []
  },
  {
   "cell_type": "code",
   "execution_count": null,
   "metadata": {},
   "outputs": [],
   "source": []
  },
  {
   "cell_type": "code",
   "execution_count": null,
   "metadata": {},
   "outputs": [],
   "source": []
  }
 ],
 "metadata": {
  "kernelspec": {
   "display_name": "Python 3",
   "language": "python",
   "name": "python3"
  },
  "language_info": {
   "codemirror_mode": {
    "name": "ipython",
    "version": 3
   },
   "file_extension": ".py",
   "mimetype": "text/x-python",
   "name": "python",
   "nbconvert_exporter": "python",
   "pygments_lexer": "ipython3",
   "version": "3.6.5"
  }
 },
 "nbformat": 4,
 "nbformat_minor": 2
}
